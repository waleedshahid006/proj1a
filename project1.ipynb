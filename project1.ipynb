{
 "cells": [
  {
   "cell_type": "markdown",
   "metadata": {},
   "source": [
    "# The ABC company has hired you as an intern on the coding team that creates e-commerce applications.  \n",
    "You must write a script that asks the user for a value. The value must be used as a whole number in a calculation, even if the user enters a decimal value. \n",
    "\n",
    "You need to write the code to meet the requirements."
   ]
  },
  {
   "cell_type": "code",
   "execution_count": 1,
   "metadata": {},
   "outputs": [
    {
     "name": "stdout",
     "output_type": "stream",
     "text": [
      "Enter the number of items: 5.8\n",
      "Thanks for buying  5  items :) \n"
     ]
    }
   ],
   "source": [
    "a = float(input(\"Enter the number of items: \"))\n",
    "b = int(a)\n",
    "print(\"Thanks for buying \", b, \" items :) \")"
   ]
  },
  {
   "cell_type": "code",
   "execution_count": null,
   "metadata": {},
   "outputs": [],
   "source": []
  },
  {
   "cell_type": "markdown",
   "metadata": {},
   "source": [
    "# You are creating a Python program that shows a congratulation message to employees on their service anniversary.\n",
    "You need to calculate the number of years of service and print a congratulatory message."
   ]
  },
  {
   "cell_type": "code",
   "execution_count": 2,
   "metadata": {},
   "outputs": [
    {
     "name": "stdout",
     "output_type": "stream",
     "text": [
      "Enter your appoinment date: 12\n",
      "Enter your retirement date: 14\n",
      "CONGRADULATION! You served 2 years in our company\n"
     ]
    }
   ],
   "source": [
    "appointment=int(input(\"Enter your appoinment date: \"))\n",
    "retirement=int(input(\"Enter your retirement date: \")) \n",
    "yos=retirement-appointment\n",
    "print(\"CONGRADULATION! You served\", yos, \"years in our company\")"
   ]
  },
  {
   "cell_type": "code",
   "execution_count": null,
   "metadata": {},
   "outputs": [],
   "source": []
  },
  {
   "cell_type": "code",
   "execution_count": null,
   "metadata": {},
   "outputs": [],
   "source": []
  },
  {
   "cell_type": "markdown",
   "metadata": {},
   "source": [
    "# Write a Python program to convert temperatures  from fahrenheit to celsius, \n",
    "#step 1: take \"fahrenheit Temperature\" from user in integer data type\n",
    "#step 2: apply formula that is       (  C = (5/9) * (fahrenheit_temperature - 32)  )\n",
    "#step 3: print step 2. "
   ]
  },
  {
   "cell_type": "code",
   "execution_count": 3,
   "metadata": {},
   "outputs": [
    {
     "name": "stdout",
     "output_type": "stream",
     "text": [
      "Enter Temperature in Fahrenheit: 30\n",
      "Temperature in Celsius is:  -1.1111111111111112\n"
     ]
    }
   ],
   "source": [
    "tif=int(input(\"Enter Temperature in Fahrenheit: \"))\n",
    "tic = (5/9) * (tif - 32)\n",
    "print(\"Temperature in Celsius is: \",tic)"
   ]
  },
  {
   "cell_type": "markdown",
   "metadata": {},
   "source": []
  },
  {
   "cell_type": "code",
   "execution_count": null,
   "metadata": {},
   "outputs": [],
   "source": []
  },
  {
   "cell_type": "markdown",
   "metadata": {},
   "source": [
    "<h3>assign a vlue to grade by checking the following conditions:: </h3>\n",
    "<h3>if % is greater then and equal to 90 and less then 100 grade is A+ </h3>\n",
    "<h3>if % is greater then and equal to 80 and less then 90 grade is A </h3>\n",
    "<h3>if % is greater then and equal to 70 and less then 80 grade is B </h3>\n",
    "<h3>if % is greater then and equal to 60 and less then 70 grade is C </h3>\n",
    "<h3>if % is less than 60 grade is FAIL </h3>\n"
   ]
  },
  {
   "cell_type": "code",
   "execution_count": 18,
   "metadata": {},
   "outputs": [
    {
     "name": "stdout",
     "output_type": "stream",
     "text": [
      "enter marks30\n"
     ]
    },
    {
     "ename": "TypeError",
     "evalue": "unsupported operand type(s) for /: 'str' and 'int'",
     "output_type": "error",
     "traceback": [
      "\u001b[1;31m---------------------------------------------------------------------------\u001b[0m",
      "\u001b[1;31mTypeError\u001b[0m                                 Traceback (most recent call last)",
      "\u001b[1;32m<ipython-input-18-c8aef92a6ce8>\u001b[0m in \u001b[0;36m<module>\u001b[1;34m\u001b[0m\n\u001b[0;32m      1\u001b[0m \u001b[0mobtained_marks\u001b[0m\u001b[1;33m=\u001b[0m\u001b[0minput\u001b[0m\u001b[1;33m(\u001b[0m\u001b[1;34m\"enter marks\"\u001b[0m\u001b[1;33m)\u001b[0m\u001b[1;33m\u001b[0m\u001b[1;33m\u001b[0m\u001b[0m\n\u001b[1;32m----> 2\u001b[1;33m \u001b[0mPercentage\u001b[0m\u001b[1;33m=\u001b[0m\u001b[1;33m(\u001b[0m\u001b[0mobtained_marks\u001b[0m\u001b[1;33m/\u001b[0m\u001b[1;36m100\u001b[0m\u001b[1;33m)\u001b[0m\u001b[1;33m*\u001b[0m\u001b[1;36m100\u001b[0m\u001b[1;33m\u001b[0m\u001b[1;33m\u001b[0m\u001b[0m\n\u001b[0m\u001b[0;32m      3\u001b[0m \u001b[0mGrade\u001b[0m\u001b[1;33m=\u001b[0m\u001b[1;36m0\u001b[0m\u001b[1;33m\u001b[0m\u001b[1;33m\u001b[0m\u001b[0m\n\u001b[0;32m      4\u001b[0m \u001b[1;32mif\u001b[0m \u001b[0mPercentage\u001b[0m \u001b[1;33m>=\u001b[0m \u001b[1;36m90\u001b[0m \u001b[1;32mand\u001b[0m \u001b[0mPercentage\u001b[0m \u001b[1;33m<\u001b[0m \u001b[1;36m100\u001b[0m \u001b[1;33m:\u001b[0m\u001b[1;33m\u001b[0m\u001b[1;33m\u001b[0m\u001b[0m\n\u001b[0;32m      5\u001b[0m     \u001b[0mGrade\u001b[0m \u001b[1;33m=\u001b[0m \u001b[1;34m\"A+\"\u001b[0m\u001b[1;33m\u001b[0m\u001b[1;33m\u001b[0m\u001b[0m\n",
      "\u001b[1;31mTypeError\u001b[0m: unsupported operand type(s) for /: 'str' and 'int'"
     ]
    }
   ],
   "source": [
    "obtained_marks=input(\"enter marks\")\n",
    "Percentage=(obtained_marks/100)*100\n",
    "Grade=0\n",
    "if Percentage >= 90 and Percentage < 100 :\n",
    "    Grade = \"A+\"\n",
    "elif Percentage >= 80 and Percentage < 90 :\n",
    "    Grade = \"A\"\n",
    "elif Percentage >= 70 and Percentage < 80 :\n",
    "    Grade = \"B\"\n",
    "elif Percentage >= 60 and Percentage < 70 :\n",
    "    Grade = \"C\"\n",
    "elif Percentage < 60 :\n",
    "    Grade = \"FAIL\"\n",
    "    \n",
    "print(\"percentage is \",Percentage,\"grade is\",Grade)"
   ]
  },
  {
   "cell_type": "code",
   "execution_count": null,
   "metadata": {},
   "outputs": [],
   "source": []
  },
  {
   "cell_type": "code",
   "execution_count": null,
   "metadata": {},
   "outputs": [],
   "source": []
  },
  {
   "cell_type": "markdown",
   "metadata": {},
   "source": [
    "<h3>Print grade percentage and obtained marks</h3>"
   ]
  },
  {
   "cell_type": "code",
   "execution_count": 12,
   "metadata": {},
   "outputs": [
    {
     "name": "stdout",
     "output_type": "stream",
     "text": [
      "obtained  marks 396\n",
      "percentage is 79.2\n",
      "Grade is B\n"
     ]
    }
   ],
   "source": [
    "calculas = 89\n",
    "dld = 78\n",
    "lade = 87\n",
    "sre = 67\n",
    "dbms = 75\n",
    "total_marks = 500\n",
    "Marks_obtained = calculas+dld+lade+sre+dbms\n",
    "Percentage = (Marks_obtained/total_marks)*100\n",
    "Grade =0\n",
    "if Percentage >= 90 and Percentage < 100 :\n",
    "    Grade = \"A+\"\n",
    "elif Percentage >= 80 and Percentage < 90 :\n",
    "    Grade = \"A\"\n",
    "elif Percentage >= 70 and Percentage < 80 :\n",
    "    Grade = \"B\"\n",
    "elif Percentage >= 60 and Percentage < 70 :\n",
    "    Grade = \"C\"\n",
    "elif Percentage < 60 :\n",
    "    Grade = \"FAIL\"\n",
    "print(\"obtained  marks\",Marks_obtained)\n",
    "print(\"percentage is\",Percentage)\n",
    "print(\"Grade is\",Grade)\n"
   ]
  },
  {
   "cell_type": "code",
   "execution_count": null,
   "metadata": {},
   "outputs": [],
   "source": []
  },
  {
   "cell_type": "code",
   "execution_count": null,
   "metadata": {},
   "outputs": [],
   "source": []
  },
  {
   "cell_type": "code",
   "execution_count": null,
   "metadata": {},
   "outputs": [],
   "source": []
  }
 ],
 "metadata": {
  "kernelspec": {
   "display_name": "Python 3",
   "language": "python",
   "name": "python3"
  },
  "language_info": {
   "codemirror_mode": {
    "name": "ipython",
    "version": 3
   },
   "file_extension": ".py",
   "mimetype": "text/x-python",
   "name": "python",
   "nbconvert_exporter": "python",
   "pygments_lexer": "ipython3",
   "version": "3.7.3"
  }
 },
 "nbformat": 4,
 "nbformat_minor": 2
}
